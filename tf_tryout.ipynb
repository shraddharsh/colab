{
  "nbformat": 4,
  "nbformat_minor": 0,
  "metadata": {
    "colab": {
      "name": "tf_tryout.ipynb",
      "version": "0.3.2",
      "provenance": [],
      "collapsed_sections": [],
      "include_colab_link": true
    },
    "kernelspec": {
      "name": "python3",
      "display_name": "Python 3"
    }
  },
  "cells": [
    {
      "cell_type": "markdown",
      "metadata": {
        "id": "view-in-github",
        "colab_type": "text"
      },
      "source": [
        "[View in Colaboratory](https://colab.research.google.com/github/shraddharsh/colab/blob/master/tf_tryout.ipynb)"
      ]
    },
    {
      "metadata": {
        "id": "5wNs3BBLqEZS",
        "colab_type": "code",
        "colab": {
          "base_uri": "https://localhost:8080/",
          "height": 119
        },
        "outputId": "00dca334-a9b2-45fd-e970-783c93a8919c"
      },
      "cell_type": "code",
      "source": [
        "#import functions\n",
        "from __future__ import print_function\n",
        "import os, math\n",
        "import pandas as pd\n",
        "import numpy as np\n",
        "from sklearn import metrics\n",
        "from matplotlib import cm, gridspec, pyplot as plt\n",
        "import tensorflow as tf\n",
        "from tensorflow.python.data import Dataset\n",
        "\n",
        "#Set options\n",
        "tf.logging.set_verbosity(tf.logging.ERROR)\n",
        "pd.options.display.max_rows = 10\n",
        "pd.options.display.float_format = '{:.1f}'.format\n",
        "\n",
        "#Loading dataset\n",
        "california_housing_dataframe = pd.read_csv('https://storage.googleapis.com/mledu-datasets/california_housing_train.csv', sep=',')\n",
        "\n",
        "# print(california_housing_dataframe)\n",
        "\n",
        "california_housing_dataframe = california_housing_dataframe.reindex(np.random.permutation(california_housing_dataframe.index))\n",
        "california_housing_dataframe['median_house_value'] /= 1000\n",
        "# california_housing_dataframe\n",
        "# california_housing_dataframe.describe\n",
        "\n",
        "my_feature = california_housing_dataframe[['total_rooms']]\n",
        "feature_columns = [tf.feature_column.numeric_column('total_rooms')]\n",
        "\n",
        "targets = california_housing_dataframe['median_house_value']\n",
        "\n",
        "#Use Gradient Descent optimizer\n",
        "my_optimizer = tf.train.GradientDescentOptimizer(learning_rate=0.0000001)\n",
        "my_optimizer = tf.contrib.estimator.clip_gradients_by_norm(my_optimizer, 5.0)\n",
        "\n",
        "#Use Linear Regressor Model with a step of 0.0000001\n",
        "linear_regressor = tf.estimator.LinearRegressor(feature_columns=feature_columns, optimizer=my_optimizer)\n",
        "\n",
        "def my_input_fn( features, targets, batch_size=1, shuffle=True, num_epochs=None ):\n",
        "  \n",
        "  features = {key:np.array(value) for key, value in dict(features).items()}\n",
        "  \n",
        "  ds = Dataset.from_tensor_slices((features, targets))\n",
        "  ds = ds.batch(batch_size).repeat(num_epochs)\n",
        "  \n",
        "  if shuffle:\n",
        "    ds = ds.shuffle(buffer_size=10000)\n",
        "  \n",
        "  features, labels = ds.make_one_shot_iterator().get_next()\n",
        "  return features, labels\n",
        "\n",
        "_ = linear_regressor.train(\n",
        "  input_fn = lambda:my_input_fn(my_feature, targets),\n",
        "  steps=100\n",
        ")\n",
        "\n",
        "\n",
        "prediction_input_fn = lambda:my_input_fn(my_feature, targets, num_epochs=1, shuffle=False)\n",
        "\n",
        "predictions = linear_regressor.predict(input_fn=prediction_input_fn)\n",
        "\n",
        "predictions = np.array([item['predictions'][0] for item in predictions])\n",
        "\n",
        "mean_squared_error = metrics.mean_squared_error(predictions, targets)\n",
        "\n",
        "root_mean_squared_error = math.sqrt(mean_squared_error)\n",
        "\n",
        "print(\"Mean Squared Error (on training data): %0.3f\" % mean_squared_error)\n",
        "print(\"Root Mean Squared Error (on training data): %0.3f\" % root_mean_squared_error)\n",
        "\n",
        "min_house_value = california_housing_dataframe[\"median_house_value\"].min()\n",
        "max_house_value = california_housing_dataframe[\"median_house_value\"].max()\n",
        "min_max_difference = max_house_value - min_house_value\n",
        "\n",
        "print(\"Min. Median House Value: %0.3f\" % min_house_value)\n",
        "print(\"Max. Median House Value: %0.3f\" % max_house_value)\n",
        "print(\"Difference between Min. and Max.: %0.3f\" % min_max_difference)\n",
        "print(\"Root Mean Squared Error: %0.3f\" % root_mean_squared_error)\n",
        "\n"
      ],
      "execution_count": 14,
      "outputs": [
        {
          "output_type": "stream",
          "text": [
            "Mean Squared Error (on training data): 56367.026\n",
            "Root Mean Squared Error (on training data): 237.417\n",
            "Min. Median House Value: 14.999\n",
            "Max. Median House Value: 500.001\n",
            "Difference between Min. and Max.: 485.002\n",
            "Root Mean Squared Error: 237.417\n"
          ],
          "name": "stdout"
        }
      ]
    }
  ]
}