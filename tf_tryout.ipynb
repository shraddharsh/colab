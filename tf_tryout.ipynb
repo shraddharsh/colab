{
  "nbformat": 4,
  "nbformat_minor": 0,
  "metadata": {
    "colab": {
      "name": "tf_tryout.ipynb",
      "version": "0.3.2",
      "provenance": [],
      "include_colab_link": true
    },
    "kernelspec": {
      "name": "python3",
      "display_name": "Python 3"
    }
  },
  "cells": [
    {
      "cell_type": "markdown",
      "metadata": {
        "id": "view-in-github",
        "colab_type": "text"
      },
      "source": [
        "[View in Colaboratory](https://colab.research.google.com/github/shraddharsh/colab/blob/master/tf_tryout.ipynb)"
      ]
    },
    {
      "metadata": {
        "id": "5wNs3BBLqEZS",
        "colab_type": "code",
        "colab": {
          "base_uri": "https://localhost:8080/",
          "height": 476
        },
        "outputId": "117cbabd-3e93-4ffd-8d45-ba458f6cf945"
      },
      "cell_type": "code",
      "source": [
        "#import functions\n",
        "from __future__ import print_function\n",
        "import os, math\n",
        "import pandas as pd\n",
        "import numpy as np\n",
        "from sklearn import metrics\n",
        "from matplotlib import cm, gridspec, pyplot as plt\n",
        "import tensorflow as tf\n",
        "from tensorflow.python.data import Dataset\n",
        "\n",
        "#Set options\n",
        "tf.logging.set_verbosity(tf.logging.ERROR)\n",
        "pd.options.display.max_rows = 10\n",
        "pd.options.display.float_format = '{:.1f}'.format\n",
        "\n",
        "#Loading dataset\n",
        "california_housing_dataframe = pd.read_csv('https://storage.googleapis.com/mledu-datasets/california_housing_train.csv', sep=',')\n",
        "\n",
        "# print(california_housing_dataframe)\n",
        "\n",
        "california_housing_dataframe = california_housing_dataframe.reindex(np.random.permutation(california_housing_dataframe.index))\n",
        "california_housing_dataframe['median_house_value'] /= 1000\n",
        "# california_housing_dataframe\n",
        "# california_housing_dataframe.describe\n",
        "\n",
        "my_features = california_housing_dataframe[['total_rooms']]\n",
        "feature_columns = [tf.feature_column.numeric_column('total_rooms')]\n",
        "\n",
        "targets = california_housing_dataframe['median_house_value']\n",
        "\n",
        "#Use Gradient Descent optimizer\n",
        "my_optimizer = tf.train.GradientDescentOptimizer(learning_rate=0.0000001)\n",
        "my_optimizer = tf.contrib.estimator.clip_gradients_by_norm(my_optimizer, 5.0)\n",
        "\n",
        "#Use Linear Regressor Model with a step of 0.0000001\n",
        "linear_regressor = tf.estimator.LinearRegressor(feature_columns=feature_columns, optimizer=my_optimizer)\n",
        "\n"
      ],
      "execution_count": 8,
      "outputs": [
        {
          "output_type": "execute_result",
          "data": {
            "text/plain": [
              "<bound method NDFrame.describe of        longitude  latitude  housing_median_age  total_rooms  total_bedrooms  \\\n",
              "11627     -121.3      38.4                17.0       2193.0           386.0   \n",
              "2793      -117.7      33.6                16.0       2497.0           500.0   \n",
              "8531      -118.5      34.2                32.0       2411.0           380.0   \n",
              "9305      -119.2      34.2                36.0       3511.0           664.0   \n",
              "4032      -118.0      33.9                16.0       2003.0           300.0   \n",
              "...          ...       ...                 ...          ...             ...   \n",
              "1731      -117.2      33.2                26.0       2010.0           347.0   \n",
              "14714     -122.2      37.8                32.0       1835.0           264.0   \n",
              "13686     -122.0      37.3                17.0       1527.0           267.0   \n",
              "4335      -118.0      33.7                16.0       3581.0           780.0   \n",
              "4022      -118.0      34.0                30.0       4873.0           667.0   \n",
              "\n",
              "       population  households  median_income  median_house_value  \n",
              "11627      1148.0       372.0            4.5               191.7  \n",
              "2793       1357.0       456.0            4.6               241.8  \n",
              "8531       1040.0       344.0            6.2               257.3  \n",
              "9305       2965.0       695.0            4.1               186.8  \n",
              "4032       1172.0       318.0            6.0               321.6  \n",
              "...           ...         ...            ...                 ...  \n",
              "1731       1160.0       331.0            4.0               142.6  \n",
              "14714       635.0       263.0            8.3               365.9  \n",
              "13686       775.0       260.0            6.0               278.0  \n",
              "4335       1644.0       774.0            5.0               397.6  \n",
              "4022       1995.0       638.0            7.2               441.9  \n",
              "\n",
              "[17000 rows x 9 columns]>"
            ]
          },
          "metadata": {
            "tags": []
          },
          "execution_count": 8
        }
      ]
    }
  ]
}